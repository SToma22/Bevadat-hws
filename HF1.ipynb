{
 "cells": [
  {
   "cell_type": "markdown",
   "id": "d97f4272",
   "metadata": {},
   "source": [
    "# 1. házi feladat (HF1)\n",
    "**Beadási határidő: 09.25. (hétfő) éjfél**\n",
    "\n",
    "Beküldés: A Microsoft Teams felületén keresztül\n",
    "\n",
    "<font style='color: rgb(200,0,0)'>Adj szöveges választ is, ahol a feladatkitűzés ezt kéri!</font>"
   ]
  },
  {
   "cell_type": "markdown",
   "id": "c334b685",
   "metadata": {},
   "source": [
    "## 1. Feladat (HF1/1) (11 pont)"
   ]
  },
  {
   "cell_type": "markdown",
   "id": "487946e5",
   "metadata": {},
   "source": [
    "A [Round University Ranking (RUR)](https://roundranking.com/ranking/world-university-rankings.html#world-2021) különböző országok egyetemeit rangsorolja világszerte. Az elemzésben 870 egyetemet rangsorolnak különböző szempontok alapján, mint például az egyetemen zajló oktatás és kutatás minősége. A legjobb egyetemeknek különböző minősítéseket osztanak, például a legjobb 100 egyetem gyémánt minősítést, a következő 100 arany minősítést kap, és így tovább...<br><br>\n",
    "**a)** (2 pont)<br>A tanult scrapelési technika segítségével töltsük le (a fenti oldalról) az egyetemeket, és hogy mely országban találhatóak, illetve milyen minősítést kaptak. A letöltött adatokat töltsük be egy Pandas DataFramebe, az oszlopok nevei legyenek <font style='font-style : oblique'>University</font>, <font style='font-style : oblique'>Country</font> és <font style='font-style : oblique'>League</font>. <br><br>\n",
    "*Fontos: Figyeljünk arra, hogy ne terheljük túl a RUR weboldalát: Ha egyszer már sikerült kigyűjtenünk az adatokat, akkor tároljuk el egy tetszőleges fájlban a gépünkön, és ne scrapeljük le újra minden futtatásnál!*"
   ]
  },
  {
   "cell_type": "code",
   "execution_count": 1,
   "id": "90ef82d6",
   "metadata": {},
   "outputs": [],
   "source": [
    "import selenium\n",
    "from selenium import webdriver\n",
    "from bs4 import BeautifulSoup\n",
    "import time\n",
    "from selenium.webdriver.common.by import By\n",
    "import pandas as pd"
   ]
  },
  {
   "cell_type": "code",
   "execution_count": 2,
   "id": "38b5eeeb",
   "metadata": {},
   "outputs": [],
   "source": [
    "\n",
    "driver = webdriver.Chrome()\n",
    "driver.get(r'https://roundranking.com/ranking/world-university-rankings.html')\n",
    "\n",
    "time.sleep(3)\n",
    "source = driver.page_source\n",
    "table = BeautifulSoup(source).find('table')"
   ]
  },
  {
   "cell_type": "code",
   "execution_count": 3,
   "id": "6212e388",
   "metadata": {},
   "outputs": [
    {
     "name": "stderr",
     "output_type": "stream",
     "text": [
      "/tmp/ipykernel_34695/482359629.py:1: FutureWarning: Passing literal html to 'read_html' is deprecated and will be removed in a future version. To read from a literal string, wrap it in a 'StringIO' object.\n",
      "  tablazat = pd.read_html(str(table))[0]\n"
     ]
    }
   ],
   "source": [
    "tablazat = pd.read_html(str(table))[0]\n",
    "tablazat = tablazat[['University','Country','League']]\n",
    "tablazat.to_csv('../Adatok/unis.csv', sep=',', index=False)"
   ]
  },
  {
   "cell_type": "markdown",
   "id": "99af5348",
   "metadata": {},
   "source": [
    "**b)** (1 pont) <br> A letöltött adatainkat szűrjük meg a következő pontok alapján:\n",
    "- Hagyjuk el az amerikai egyetemeket.\n",
    "- Csak a gyémánt, arany, ezüst és bronz minősítésű egyetemeket tartsuk meg.\n",
    "\n",
    "Tipp: Használjuk a Pandas DataFrame *.query()* metódusát. (Emlékeztető: '@' jellel tudunk változókra hivatkozni a lekérés szintaxisában.)"
   ]
  },
  {
   "cell_type": "code",
   "execution_count": 4,
   "id": "122b2676",
   "metadata": {},
   "outputs": [
    {
     "data": {
      "text/html": [
       "<div>\n",
       "<style scoped>\n",
       "    .dataframe tbody tr th:only-of-type {\n",
       "        vertical-align: middle;\n",
       "    }\n",
       "\n",
       "    .dataframe tbody tr th {\n",
       "        vertical-align: top;\n",
       "    }\n",
       "\n",
       "    .dataframe thead th {\n",
       "        text-align: right;\n",
       "    }\n",
       "</style>\n",
       "<table border=\"1\" class=\"dataframe\">\n",
       "  <thead>\n",
       "    <tr style=\"text-align: right;\">\n",
       "      <th></th>\n",
       "      <th>University</th>\n",
       "      <th>Country</th>\n",
       "      <th>League</th>\n",
       "    </tr>\n",
       "  </thead>\n",
       "  <tbody>\n",
       "    <tr>\n",
       "      <th>4</th>\n",
       "      <td>Imperial College London</td>\n",
       "      <td>UK</td>\n",
       "      <td>Diamond League</td>\n",
       "    </tr>\n",
       "    <tr>\n",
       "      <th>6</th>\n",
       "      <td>Peking University</td>\n",
       "      <td>China</td>\n",
       "      <td>Diamond League</td>\n",
       "    </tr>\n",
       "    <tr>\n",
       "      <th>8</th>\n",
       "      <td>University of Oxford</td>\n",
       "      <td>UK</td>\n",
       "      <td>Diamond League</td>\n",
       "    </tr>\n",
       "    <tr>\n",
       "      <th>10</th>\n",
       "      <td>University of Cambridge</td>\n",
       "      <td>UK</td>\n",
       "      <td>Diamond League</td>\n",
       "    </tr>\n",
       "    <tr>\n",
       "      <th>12</th>\n",
       "      <td>ETH Zurich (Swiss Federal Institute of Technol...</td>\n",
       "      <td>Switzerland</td>\n",
       "      <td>Diamond League</td>\n",
       "    </tr>\n",
       "    <tr>\n",
       "      <th>...</th>\n",
       "      <td>...</td>\n",
       "      <td>...</td>\n",
       "      <td>...</td>\n",
       "    </tr>\n",
       "    <tr>\n",
       "      <th>393</th>\n",
       "      <td>Curtin University</td>\n",
       "      <td>Australia</td>\n",
       "      <td>Bronze League</td>\n",
       "    </tr>\n",
       "    <tr>\n",
       "      <th>394</th>\n",
       "      <td>Mahidol University</td>\n",
       "      <td>Thailand</td>\n",
       "      <td>Bronze League</td>\n",
       "    </tr>\n",
       "    <tr>\n",
       "      <th>395</th>\n",
       "      <td>Brunel University</td>\n",
       "      <td>UK</td>\n",
       "      <td>Bronze League</td>\n",
       "    </tr>\n",
       "    <tr>\n",
       "      <th>396</th>\n",
       "      <td>Hunan University</td>\n",
       "      <td>China</td>\n",
       "      <td>Bronze League</td>\n",
       "    </tr>\n",
       "    <tr>\n",
       "      <th>397</th>\n",
       "      <td>National Autonomous University of Mexico</td>\n",
       "      <td>Mexico</td>\n",
       "      <td>Bronze League</td>\n",
       "    </tr>\n",
       "  </tbody>\n",
       "</table>\n",
       "<p>297 rows × 3 columns</p>\n",
       "</div>"
      ],
      "text/plain": [
       "                                            University      Country  \\\n",
       "4                              Imperial College London           UK   \n",
       "6                                    Peking University        China   \n",
       "8                                 University of Oxford           UK   \n",
       "10                             University of Cambridge           UK   \n",
       "12   ETH Zurich (Swiss Federal Institute of Technol...  Switzerland   \n",
       "..                                                 ...          ...   \n",
       "393                                  Curtin University    Australia   \n",
       "394                                 Mahidol University     Thailand   \n",
       "395                                  Brunel University           UK   \n",
       "396                                   Hunan University        China   \n",
       "397           National Autonomous University of Mexico       Mexico   \n",
       "\n",
       "             League  \n",
       "4    Diamond League  \n",
       "6    Diamond League  \n",
       "8    Diamond League  \n",
       "10   Diamond League  \n",
       "12   Diamond League  \n",
       "..              ...  \n",
       "393   Bronze League  \n",
       "394   Bronze League  \n",
       "395   Bronze League  \n",
       "396   Bronze League  \n",
       "397   Bronze League  \n",
       "\n",
       "[297 rows x 3 columns]"
      ]
     },
     "execution_count": 4,
     "metadata": {},
     "output_type": "execute_result"
    }
   ],
   "source": [
    "t1 = tablazat.query(\"League in ['Diamond League', 'Golden League', 'Silver League', 'Bronze League'] and Country != 'USA' \" )\n",
    "t1"
   ]
  },
  {
   "cell_type": "markdown",
   "id": "8a4a5000",
   "metadata": {},
   "source": [
    "**c)** (2 pont)<br> Készítsünk halmozott oszlopdiagramot az adatokból:\n",
    "- Csak azokat az országokat hagyjuk meg, akiknek legalább 10 egyeteme szerepel a kapott táblázatban.\n",
    "- Rendezzük növekvő sorrendbe az országokat aszerint, hogy hány egyetem kapott az adott országból legalább bronz minősítést. \n",
    "- Az oszlopdiagram y tengelyén szerepeljenek az országok az előbb kapott sorrendben. Az x tengelyen pedig halmozva szerepeljenek, hogy az adott országban hány bronz, ezüst, arany, majd gyémánt minősítésű egyetem szerepel. Ne felejtsük el színezni is az oszlopokat!\n",
    "\n",
    "Tipp: Az ábra könnyedén elkészíthető a Pandas DataFrame beépített *.plot.barh(stacked=True)* metódusával. Ehhez azonban megfelelő formára kell hoznunk a táblázatunkat. Legyenek a soraink az országok, oszlopaink pedig a Bronze, Silver, Golden, Diamond oszlopok. Egy adott cellában például UK - Bronze szerepeljen, hogy az Egyesült Királyságban hány bronz minősítésű egyetem található. <br> Ha eddig mindent a leírtak szerint csináltál, akkor ezt a táblázatot elkészíti a következő kód: <br>\n",
    "<code>df2=pd.crosstab(df.Country, df.League, values=df.University, aggfunc=len)[['Bronze League', 'Silver League', 'Golden League', 'Diamond League']].fillna(0)</code><br>\n",
    "Az ábrának körülbelül így kellene kinéznie, de nem tilos ennél szebb ábrát készíteni! :)\n",
    "![league](../Adatok/league.png)"
   ]
  },
  {
   "cell_type": "code",
   "execution_count": 5,
   "id": "6a02971b",
   "metadata": {},
   "outputs": [
    {
     "data": {
      "text/plain": [
       "<AxesSubplot:ylabel='Country'>"
      ]
     },
     "execution_count": 5,
     "metadata": {},
     "output_type": "execute_result"
    },
    {
     "data": {
      "image/png": "[encoded data removed]",
      "text/plain": [
       "<Figure size 640x480 with 1 Axes>"
      ]
     },
     "metadata": {},
     "output_type": "display_data"
    }
   ],
   "source": [
    "t2=pd.crosstab(t1.Country, t1.League, values=t1.University, aggfunc=len)[['Bronze League', 'Silver League', 'Golden League', 'Diamond League']].fillna(0)\n",
    "\n",
    "osszesitett = t1.groupby(['Country'])['League'].count()\n",
    "\n",
    "t2 = t2.merge(osszesitett, on='Country')\n",
    "t2 = t2.sort_values(by='League')[-9:]\n",
    "\n",
    "t2[['Bronze League', 'Silver League', 'Golden League', 'Diamond League']].plot.barh(stacked=True, color = {'Bronze League' : 'orange', 'Silver League' : 'gray', 'Golden League' : 'yellow', 'Diamond League' : 'blue'})\n"
   ]
  },
  {
   "cell_type": "markdown",
   "id": "99fdff66",
   "metadata": {},
   "source": [
    "**d)** (1 pont) <br> Térjünk vissza a b pont végrehajtása előtti adatainkhoz. Nézzük meg melyek azok az országok, amelyeknek minden egyeteme kapott valamilyen kitüntetést. (Kitüntetés alatt gyémánt, arany, ezüst, bronz vagy réz minősítést értünk.)"
   ]
  },
  {
   "cell_type": "code",
   "execution_count": 6,
   "id": "ada16b02",
   "metadata": {},
   "outputs": [
    {
     "name": "stdout",
     "output_type": "stream",
     "text": [
      "['Sweden', 'Netherlands', 'Hong Kong', 'Macau', 'Qatar']\n"
     ]
    }
   ],
   "source": [
    "orszagok = []\n",
    "for i in tablazat['Country']:\n",
    "    if i not in orszagok:\n",
    "        orszagok.append(i)\n",
    "\n",
    "wl = tablazat.query(\"League == 'World League' \")['Country']\n",
    "\n",
    "for j in wl:\n",
    "    if j in orszagok:\n",
    "        orszagok.remove(j)\n",
    "\n",
    "print(orszagok)"
   ]
  },
  {
   "cell_type": "markdown",
   "id": "c405d362",
   "metadata": {},
   "source": [
    "**e)** (1 pont) <br> Magyarország is szerepel a kitüntetett országok között. Nézzük meg, hogy mely mérőszámban teljesítenek kiválóan a magyar egyetemek, és hogy pontosan mit mér ez a mérőszám. 2-3 mondatban foglaljuk össze a tapasztalatainkat. "
   ]
  },
  {
   "cell_type": "code",
   "execution_count": 7,
   "id": "00b29f89",
   "metadata": {},
   "outputs": [
    {
     "data": {
      "text/html": [
       "<div>\n",
       "<style scoped>\n",
       "    .dataframe tbody tr th:only-of-type {\n",
       "        vertical-align: middle;\n",
       "    }\n",
       "\n",
       "    .dataframe tbody tr th {\n",
       "        vertical-align: top;\n",
       "    }\n",
       "\n",
       "    .dataframe thead th {\n",
       "        text-align: right;\n",
       "    }\n",
       "</style>\n",
       "<table border=\"1\" class=\"dataframe\">\n",
       "  <thead>\n",
       "    <tr style=\"text-align: right;\">\n",
       "      <th></th>\n",
       "      <th>University</th>\n",
       "      <th>Country</th>\n",
       "      <th>League</th>\n",
       "    </tr>\n",
       "  </thead>\n",
       "  <tbody>\n",
       "    <tr>\n",
       "      <th>111</th>\n",
       "      <td>Central European University</td>\n",
       "      <td>Hungary</td>\n",
       "      <td>Golden League</td>\n",
       "    </tr>\n",
       "    <tr>\n",
       "      <th>183</th>\n",
       "      <td>Semmelweis University</td>\n",
       "      <td>Hungary</td>\n",
       "      <td>Golden League</td>\n",
       "    </tr>\n",
       "    <tr>\n",
       "      <th>421</th>\n",
       "      <td>University of Debrecen</td>\n",
       "      <td>Hungary</td>\n",
       "      <td>Copper League</td>\n",
       "    </tr>\n",
       "    <tr>\n",
       "      <th>529</th>\n",
       "      <td>University of Pecs</td>\n",
       "      <td>Hungary</td>\n",
       "      <td>World League</td>\n",
       "    </tr>\n",
       "    <tr>\n",
       "      <th>710</th>\n",
       "      <td>Eotvos Lorand University</td>\n",
       "      <td>Hungary</td>\n",
       "      <td>World League</td>\n",
       "    </tr>\n",
       "    <tr>\n",
       "      <th>742</th>\n",
       "      <td>University of Szeged</td>\n",
       "      <td>Hungary</td>\n",
       "      <td>World League</td>\n",
       "    </tr>\n",
       "    <tr>\n",
       "      <th>861</th>\n",
       "      <td>Budapest University of Technology and Economics</td>\n",
       "      <td>Hungary</td>\n",
       "      <td>World League</td>\n",
       "    </tr>\n",
       "    <tr>\n",
       "      <th>971</th>\n",
       "      <td>University of Sopron</td>\n",
       "      <td>Hungary</td>\n",
       "      <td>World League</td>\n",
       "    </tr>\n",
       "    <tr>\n",
       "      <th>1019</th>\n",
       "      <td>Corvinus University of Budapest</td>\n",
       "      <td>Hungary</td>\n",
       "      <td>World League</td>\n",
       "    </tr>\n",
       "  </tbody>\n",
       "</table>\n",
       "</div>"
      ],
      "text/plain": [
       "                                           University  Country         League\n",
       "111                       Central European University  Hungary  Golden League\n",
       "183                             Semmelweis University  Hungary  Golden League\n",
       "421                            University of Debrecen  Hungary  Copper League\n",
       "529                                University of Pecs  Hungary   World League\n",
       "710                          Eotvos Lorand University  Hungary   World League\n",
       "742                              University of Szeged  Hungary   World League\n",
       "861   Budapest University of Technology and Economics  Hungary   World League\n",
       "971                              University of Sopron  Hungary   World League\n",
       "1019                  Corvinus University of Budapest  Hungary   World League"
      ]
     },
     "execution_count": 7,
     "metadata": {},
     "output_type": "execute_result"
    }
   ],
   "source": [
    "tablazat[tablazat['Country'] == 'Hungary']"
   ]
  },
  {
   "cell_type": "markdown",
   "id": "97b1394e",
   "metadata": {},
   "source": [
    "**f)** (4 pont) <br> A rangsorban található egyetemek oldalait megnyitva megtudhatjuk, hogy milyen célt tűztek ki maguknak. (Mission Statement.) Töltsük le az első 200 egyetemét (ha lassú a gép, akkor elegendő az első 20-30-at) és készítsünk belőlük szófelhőt. Hagyjuk ki a szófelhőből a University szót. Mit tapasztalunk, foglaljuk össze 2-3 mondatban. <br>\n",
    "> Tipp: A megoldáshoz célszerű egyenként megnyitni az egyetemek oldalaira vezető linkeket. Ezeket a linkeket tartalmazza az első pontban letöltött source fájl. Nem feltétlenül szükséges letölteni a teljes htmlt. Selenium segítségével is le tudjuk kérdezni a tagekben található szövegeket. Például ha egy \"scrape_me\" classban szereplő szöveget szeretnénk kinyerni, akkor használhatjuk a driver.find_element_by_class_name(\"scrape_me\").text kódot. A szófelhő elkészítésével kapcsolatban pedig rengeteg segítséget találsz itt: [wordcloud](https://www.datacamp.com/community/tutorials/wordcloud-python)\n",
    "\n",
    "*Fontos: Figyeljünk arra, hogy ne terheljük túl a RUR weboldalát: Ha egyszer már sikerült kigyűjtenünk az adatokat, akkor tároljuk el egy tetszőleges fájlban a gépünkön, és ne scrapeljük le újra minden futtatásnál!*\n",
    "\n",
    "**Alternatíva:**<br> Amennyiben a scrapelés túl nehéznek bizonyul, 2 pontért elfogadjuk csak a szófelhő elkészítését is. Ehhez töltsétek be az [Adatok](https://math.bme.hu/~pinterj/BevAdat1/Adatok/) mappában található worldcloud.txt fájlból az egyetemek küldetésnyilatkozatait. "
   ]
  },
  {
   "cell_type": "code",
   "execution_count": 8,
   "id": "0e7a9498",
   "metadata": {},
   "outputs": [
    {
     "data": {
      "text/plain": [
       "\"\\ndriver = webdriver.Chrome()\\ndriver.get(r'https://roundranking.com/ranking/world-university-rankings.html')\\n\\ntime.sleep(3)\\nsource = driver.page_source\\nsource = BeautifulSoup(source)\\ntable = source.find('table')\\n\""
      ]
     },
     "execution_count": 8,
     "metadata": {},
     "output_type": "execute_result"
    }
   ],
   "source": [
    "\"\"\"\n",
    "driver = webdriver.Chrome()\n",
    "driver.get(r'https://roundranking.com/ranking/world-university-rankings.html')\n",
    "\n",
    "time.sleep(3)\n",
    "source = driver.page_source\n",
    "source = BeautifulSoup(source)\n",
    "table = source.find('table')\n",
    "\"\"\"\n"
   ]
  },
  {
   "cell_type": "code",
   "execution_count": 9,
   "id": "3003afb7",
   "metadata": {},
   "outputs": [
    {
     "data": {
      "text/plain": [
       "\"sorok = []\\nfor i in range(1,2):\\n    sorok += table.find_all('tr', {'class':'az-row-'+str(i)+'00'})\\n\\nlinkek = []\\nstring = 'https://roundranking.com'\\nn = 0\\nfor j in sorok:\\n    start = str(j).find('href') + 6\\n    end = str(j).find('.html') + 5\\n    linkek.append(str(string + str(j)[start:end]))\\n\""
      ]
     },
     "execution_count": 9,
     "metadata": {},
     "output_type": "execute_result"
    }
   ],
   "source": [
    "\"\"\"sorok = []\n",
    "for i in range(1,2):\n",
    "    sorok += table.find_all('tr', {'class':'az-row-'+str(i)+'00'})\n",
    "\n",
    "linkek = []\n",
    "string = 'https://roundranking.com'\n",
    "n = 0\n",
    "for j in sorok:\n",
    "    start = str(j).find('href') + 6\n",
    "    end = str(j).find('.html') + 5\n",
    "    linkek.append(str(string + str(j)[start:end]))\n",
    "\"\"\""
   ]
  },
  {
   "cell_type": "code",
   "execution_count": 10,
   "id": "74ee8924",
   "metadata": {},
   "outputs": [
    {
     "data": {
      "text/plain": [
       "'driver = webdriver.Chrome()\\n\\ntext = \\'\\'\\nlinkek = linkek[:30]\\nfor k in linkek:\\n    driver.get(k)\\n    time.sleep(3)\\n\\n    text += driver.find_element(By.CLASS_NAME, \\'mission\\').text\\n    text += \\' \\'\\n\\ntext = \" \".join(text)\\n'"
      ]
     },
     "execution_count": 10,
     "metadata": {},
     "output_type": "execute_result"
    }
   ],
   "source": [
    "\"\"\"driver = webdriver.Chrome()\n",
    "\n",
    "text = ''\n",
    "linkek = linkek[:30]\n",
    "for k in linkek:\n",
    "    driver.get(k)\n",
    "    time.sleep(3)\n",
    "\n",
    "    text += driver.find_element(By.CLASS_NAME, 'mission').text\n",
    "    text += ' '\n",
    "\n",
    "text = \" \".join(text)\n",
    "\"\"\""
   ]
  },
  {
   "cell_type": "code",
   "execution_count": 11,
   "id": "fa7ead59",
   "metadata": {},
   "outputs": [
    {
     "data": {
      "text/plain": [
       "'from PIL import Image\\nfrom wordcloud import WordCloud, STOPWORDS, ImageColorGenerator\\nimport matplotlib.pyplot as plt\\n\\nszofelho = WordCloud().generate(szoveg)\\n\\nplt.imshow(szofelho, interpolation=\\'bilinear\\')\\nplt.axis(\"off\")\\nplt.show()\\n'"
      ]
     },
     "execution_count": 11,
     "metadata": {},
     "output_type": "execute_result"
    }
   ],
   "source": [
    "\"\"\"from PIL import Image\n",
    "from wordcloud import WordCloud, STOPWORDS, ImageColorGenerator\n",
    "import matplotlib.pyplot as plt\n",
    "\n",
    "szofelho = WordCloud().generate(szoveg)\n",
    "\n",
    "plt.imshow(szofelho, interpolation='bilinear')\n",
    "plt.axis(\"off\")\n",
    "plt.show()\n",
    "\"\"\""
   ]
  },
  {
   "cell_type": "markdown",
   "id": "7389da1a",
   "metadata": {},
   "source": [
    "## 2. Feladat (HF1/2) (9 pont)"
   ]
  },
  {
   "cell_type": "markdown",
   "id": "3b5b00b0",
   "metadata": {},
   "source": [
    "A dinamikus programozás egy széles körben elterjedt matematika eljárás, mellyel többek között algoritmuselméleti, optimalizálási problémákat lehet effektíven megoldani. A két fő alappillére a rekurzív gondolkodásmód, és a kisebb részfeladatokra bontás, azok eredményeinek eltárolása, felhasználása. Ezek együttes alkalmazása számtalan problémát képes gyakorlatban is alkalmazható sebességgel megoldani. <br><br>\n",
    "Tanulmányaink során jó pár dinamikus programozáson alapuló algoritmussal találkozhattunk, és fogunk is találkozni a közeljövőben több tantárgy keretein belül is. Az egyik ilyen algoritmus, mellyel nemrég ismerkedtünk meg a DTW, azaz dynamic time warping, dinamikus idővetemítés. <br><br>\n",
    "Feladatunk a DTW algoritmus implementálása. Emlékeztetőül itt láthatjuk az algoritmus leírását:<br><br>\n",
    "<b>Dinamikus idővetemítés (dynamic time warping)</b> <br>\n",
    "Legyen $x\\in \\mathbb R^n$, $y\\in \\mathbb R^m$, ekkor a két vektor (idősor) <b>DTW</b> távolságát a következő rekurziós formulával tudjuk kiszámolni:<br>\n",
    "- $\\text{DTW}(0,0)=|x_0-y_0|$\n",
    "- $\\text{DTW}(0,j)=|x_0-y_j|+\\text{DTW}(0, j-1)+c_ö, \\text{ahol } 1\\leq j \\leq m$\n",
    "- $\\text{DTW}(i,0)=|x_i-y_0|+\\text{DTW}(i-1, 0)+c_{ny}, \\text{ahol } 1\\leq i \\leq n$\n",
    "- $\\text{DTW}(i,j)=|x_i-y_j|+min\\{\\text{DTW}(i-1,j-1), \\text{DTW}(i, j-1)+c_ö, \\text{DTW}(i-1, j)+c_{ny}\\}$,\n",
    "ahol $1\\leq i \\leq n$, $1\\leq j \\leq m$, és $c_ö=$ összenyomás költsége, $c_{ny}=$ nyújtás költsége. \n",
    "- Dinamikus programozásnál általában egy $n\\times m$-es mátrixot töltünk ki ezzel a formulával. (Például először kiszámoljuk DTW(0,0)-t (1. pont), majd kitöltjük az első sort (2. pont), aztán első oszlopot (3. pont), végül a többi cellát (4. pont).)\n",
    "- A két idősor távolságát megadja a jobb alsó cella, azaz $\\text{DTW}(n,m)$.\n",
    "- A vetemítő utat meghatározhatjuk visszafelé: Kiindulunk a jobb alsó sarokból, majd megnézzük, hogy a $\\text{DTW}(i-1,j-1), \\ \\text{DTW}(i, j-1),\\ \\text{DTW}(i-1, j)$ értékek közül melyikből származtattuk a $\\text{DTW}(i,j)$ értéket, majd annak megfelelően nyomjuk össze, vagy nyújtjuk meg az idősort, ha szükséges."
   ]
  },
  {
   "cell_type": "markdown",
   "id": "73f42604",
   "metadata": {},
   "source": [
    "**a)** (1 pont) <br> Kezdetben az első alappillérrel foglalkozunk: Az alábbi mezőben egy félkész függvényt láthatunk, melyet úgy kell kiegészítenünk, hogy rekurzív függvényhívásokkal számolja ki két idősor DTW távolságát. A programot nagy vonalakban magyarázzuk el kommentben vagy egy pár soros összefoglalásban!<br>\n",
    "**Fontos:** A feladat megoldásánál ne használjunk se for ciklust, se tömböket! Csak és kizárólag rekurzív függvényhívás segítségével oldjuk meg a feladatot! <br>\n"
   ]
  },
  {
   "cell_type": "code",
   "execution_count": 12,
   "id": "b03f22da",
   "metadata": {},
   "outputs": [],
   "source": [
    "import numpy as np\n",
    "\n",
    "def DTW(x, y, c_ö, c_ny, i, j):\n",
    "    \"\"\"\n",
    "      Megadja két idősor DTW távolságát\n",
    "      input:\n",
    "        x,y - a két idősor np.array típussal megadva\n",
    "        c_ö, c_ny - az összenyomás és nyújtás költsége\n",
    "        i,j - a kiszámolandó cella koordinátái\n",
    "      output:\n",
    "        x_i,y_i DTW távolsága\n",
    "    \"\"\"\n",
    "\n",
    "    c_ö = 0\n",
    "    c_ny = 0\n",
    "\n",
    "    #print(x,y)\n",
    "\n",
    "    if i==0 and j==0:\n",
    "        return abs(x[0]-y[0]) #Képlet 1. pont\n",
    "    elif i==0:\n",
    "        return abs(x[0]-y[j]) + DTW(x,y,c_ö,c_ny,i,j-1)+c_ö #Képlet 2. pont\n",
    "    elif j==0:\n",
    "        return abs(x[i]-y[0]) + DTW(x,y,c_ö,c_ny,i-1,j)+c_ny #Keplet 3. pont\n",
    "    else:\n",
    "        bf= DTW(x,y,c_ö,c_ny,i-1,j-1) #cellától balra-fent lévő elem\n",
    "        b = DTW(x,y,c_ö,c_ny,i,j-1)   #cellától balra lévő elem\n",
    "        f = DTW(x,y,c_ö,c_ny,i-1,j)   #cella feletti elem\n",
    "        return abs(x[i]-y[j]) + np.min(np.array([bf, b+c_ö, f+c_ny ])) #Keplet 4. pont\n",
    "\n",
    "\n",
    "#x=np.array([1,2,3,4,5])\n",
    "#y=np.array([2,4,6,8])\n",
    "#print(DTW(x,y,0,0,len(x)-1,len(y)-1))"
   ]
  },
  {
   "cell_type": "markdown",
   "id": "6b25a5a7",
   "metadata": {},
   "source": [
    "**b)** (3 pont) <br> Mi a probléma az a) pontban a megoldással? Miért van szükség a második alappillérre is?  Programozz le egy jobb megoldást, amely használja az órán tanult dinamikus programozási elvet! Fejtsd ki pár sorban, magyarázd el a 2 megoldás közötti különbséget is! <br>"
   ]
  },
  {
   "cell_type": "code",
   "execution_count": 13,
   "id": "957f5bf6",
   "metadata": {},
   "outputs": [],
   "source": [
    "def DTW_d(x, y, c_ö, c_ny):\n",
    "    tablazat = np.array([[0 for i in y] for j in x])\n",
    "    \n",
    "    for i in range(len(x)):\n",
    "        for j in range(len(y)):\n",
    "            if i==0 and j == 0:\n",
    "                tablazat[0][0] = abs(x[0]-y[0])\n",
    "            elif i == 0:\n",
    "                tablazat[0][j] = abs(x[0]-y[j]) + tablazat[0][j-1] + c_ö\n",
    "            elif j == 0:\n",
    "                tablazat[i][0] = abs(x[i]-y[0]) + tablazat[i-1][0] + c_ny\n",
    "            else:\n",
    "                bf= tablazat[i-1][j-1]\n",
    "                b = tablazat[i][j-1]\n",
    "                f = tablazat[i-1][j]\n",
    "                tablazat[i][j] = abs(x[i]-y[j]) + np.min(np.array([bf, b + c_ö, f + c_ny ]))\n",
    "    \n",
    "    return tablazat, tablazat[len(x)-1][len(y)-1] #Térjünk vissza a megfelelő számmal, ami a két idősor DTW távolsága.\n",
    "\n",
    "#x=np.array([1,2,3,4,5])\n",
    "#y=np.array([2,4,6,8])\n",
    "#print(DTW(x,y,0,0))"
   ]
  },
  {
   "cell_type": "markdown",
   "id": "0553e40f",
   "metadata": {},
   "source": [
    "Válasz: Az a) pontban megadott megoldás rekurzív módon oldja meg a feladatot, aminek az a hátránya hogy rövidlátó módon csak az előtte lévő feladatot számolja ki, így van hogy egy cellát 3szor is kiszámol. <br>\n",
    "Ezzel szemben a b) megoldásban mindent elég csak egyszer kiszámolni, és ezt a kiszámolt adatot hívjuk vissza újra és újra"
   ]
  },
  {
   "cell_type": "markdown",
   "id": "c17926c5",
   "metadata": {},
   "source": [
    "**c)** (1 pont) <br>\n",
    "Teszteljük le, hogy melyik verzió fut le gyorsabban, a sima rekurzív, vagy a dinamikus programozásos algoritmus! <br>\n",
    "Használjuk a Jupyter Notebook beépített time cell magic függvényét. <br>\n",
    "Az alábbi kóddal generáljunk véletlenszerűen 10 hosszú idősorpárokat, majd számoljuk ki mind a 20 idősorpárnak a DTW távolságát a sima rekurzív, és a dinamikus algoritmussal is. <br> Melyik fut le gyorsabban? Megéri-e már ilyen rövid idősorok esetén is a dinamikus programozást használni? "
   ]
  },
  {
   "cell_type": "code",
   "execution_count": 14,
   "id": "8dea3c8a",
   "metadata": {},
   "outputs": [],
   "source": [
    "import numpy as np\n",
    "time_series=[]\n",
    "for i in range(20):\n",
    "    time_series.append((np.random.randint(1,100,10),np.random.randint(1,100,10)))\n",
    "\n",
    "#time_series[0]"
   ]
  },
  {
   "cell_type": "code",
   "execution_count": 15,
   "id": "9f95e381",
   "metadata": {},
   "outputs": [
    {
     "name": "stdout",
     "output_type": "stream",
     "text": [
      "CPU times: user 2min 3s, sys: 45.8 ms, total: 2min 3s\n",
      "Wall time: 2min 3s\n"
     ]
    }
   ],
   "source": [
    "%%time\n",
    "for i in time_series:\n",
    "    x=np.array(i[0])\n",
    "    y=np.array(i[1])\n",
    "    DTW(x, y, 0, 0, len(x)-1, len(y)-1)"
   ]
  },
  {
   "cell_type": "code",
   "execution_count": 16,
   "id": "d03eb7cd",
   "metadata": {},
   "outputs": [
    {
     "name": "stdout",
     "output_type": "stream",
     "text": [
      "CPU times: user 13.7 ms, sys: 13 µs, total: 13.7 ms\n",
      "Wall time: 13.4 ms\n"
     ]
    }
   ],
   "source": [
    "%%time\n",
    "for i in time_series:\n",
    "    x=np.array(i[0])\n",
    "    y=np.array(i[1])\n",
    "    DTW_d(x, y, 0, 0)[1]"
   ]
  },
  {
   "cell_type": "markdown",
   "id": "a2dd52fa",
   "metadata": {},
   "source": [
    "Válasz: A dinamikus programozással hamarabb lefut, és már ilyen kis adathalmaz esetén is jelentős az időbeni különbség"
   ]
  },
  {
   "cell_type": "markdown",
   "id": "caf821e4",
   "metadata": {},
   "source": [
    "**d)** (2 pont)<br>\n",
    "Határozzuk meg a vetemítő utat is backtracking módszer segítségével!<br>\n",
    "Írjunk egy függvényt, melynek bemenete egy már kitöltött DTW táblázat, illetve az összenyomás és nyújtás költsége, és visszatér egy olyan táblázattal, melyből kiolvasható a vetemítő út. (Például definiáljunk egy csupa 0 mátrixot, és tegyünk a megfelelő cellákba 1-eseket.) <br>\n",
    ">Tipp: A kitöltött táblázat meghatározásához elegendő a b) feladatrészben megírt függvényünk kimenetét átírni. \n",
    "Használjuk a numpy argmin függvényét a cellák meghatározásához!"
   ]
  },
  {
   "cell_type": "code",
   "execution_count": 17,
   "id": "cfed3228",
   "metadata": {},
   "outputs": [
    {
     "name": "stdout",
     "output_type": "stream",
     "text": [
      "[[ 1  4  9 16]\n",
      " [ 1  3  7 13]\n",
      " [ 2  2  5 10]\n",
      " [ 4  2  4  8]\n",
      " [ 7  3  3  6]]\n",
      "[[1 0 0 0]\n",
      " [1 0 0 0]\n",
      " [1 0 0 0]\n",
      " [0 1 0 0]\n",
      " [0 0 1 1]]\n"
     ]
    }
   ],
   "source": [
    "def vet(tablazat, c_ö, c_ny):\n",
    "    x=len(tablazat)-1\n",
    "    y=len(tablazat[0])-1\n",
    "    ut = np.array([np.array([0 for i in range(y+1)]) for j in range(x+1) ])\n",
    "    \n",
    "    while x != 0 or y != 0:\n",
    "        ut[x][y] = 1\n",
    "        bf = tablazat[x-1][y-1]\n",
    "        b = tablazat[x][y-1] + c_ö\n",
    "        f = tablazat[x-1][y] + c_ny\n",
    "        min = np.min(np.array([bf, b, f ]))\n",
    "        if min == bf:\n",
    "            x-=1\n",
    "            y-=1\n",
    "        elif min == b:\n",
    "            y-=1\n",
    "        elif min == f:\n",
    "            x-=1\n",
    "    ut[0][0] = 1\n",
    "    return ut\n",
    "\n",
    "x=np.array([1,2,3,4,5])\n",
    "y=np.array([2,4,6,8])\n",
    "tablazat = DTW_d(x,y,0,0)[0]\n",
    "\n",
    "print(tablazat)\n",
    "print(vet(tablazat, 0, 0))"
   ]
  },
  {
   "cell_type": "markdown",
   "id": "0e435053",
   "metadata": {},
   "source": [
    "**e)** (2 pont) <br>\n",
    "Ha eddig a feladatig eljutottál, akkor minden bizonnyal teljesen elsajátítottad a DTW algoritmus rejtelmeit. Innentől kezdve, ha gyakorolni szeretnéd a DTW távolság számolását (például zhra), akkor könnyedén le tudod ellenőrzni magad a program segítségével.<br>\n",
    "Próbáld ki az algoritmust az órán megoldott példára! Ábrázold a DTW táblázatot, amit visszaad a korábban megírt algoritmus egy értelmesen színezett heatmapen. Mit tapasztaltsz? Hogyan tudnád elmagyarázni a heatmap felépítését? Látszódik a vetemítő út a heatmapen?"
   ]
  },
  {
   "cell_type": "code",
   "execution_count": 18,
   "id": "946077d0",
   "metadata": {},
   "outputs": [
    {
     "name": "stdout",
     "output_type": "stream",
     "text": [
      "[[0 0 2 5 7 7]\n",
      " [1 1 1 3 4 5]\n",
      " [3 3 1 2 2 4]\n",
      " [5 5 1 2 2 4]\n",
      " [8 8 2 1 2 5]\n",
      " [8 8 4 4 3 2]]\n"
     ]
    },
    {
     "data": {
      "image/png": "[encoded data removed]",
      "text/plain": [
       "<Figure size 640x480 with 1 Axes>"
      ]
     },
     "metadata": {},
     "output_type": "display_data"
    }
   ],
   "source": [
    "import matplotlib.pyplot as plt\n",
    "\n",
    "x1 = np.array([1,2,3,3,4,1])\n",
    "x2 = np.array([1,1,3,4,3,1])\n",
    "tablazat = DTW_d(x1,x2,0,0)[0]\n",
    "print(tablazat)\n",
    "\n",
    "plt.imshow(tablazat, cmap='hot', interpolation='nearest')\n",
    "plt.show()"
   ]
  },
  {
   "cell_type": "code",
   "execution_count": null,
   "id": "95383078",
   "metadata": {},
   "outputs": [],
   "source": []
  },
  {
   "cell_type": "markdown",
   "id": "e9d0aa51",
   "metadata": {},
   "source": [
    "Válasz: A heatmpen látszódik a vetemítő út, jelen esetben ha a legsötétebb 'pixeleket' vesszük használatba akkor a vetemítő utat kapjuk meg.  <br>\n",
    "A heatmap felépítése igen egyszerű: egy táblázatot színez be a 'pixelek' értékei alapján lineárisan, azaz minél kisebb érték áll egy cellában, ott annál világosabb/sötétebb színt használunk"
   ]
  },
  {
   "cell_type": "markdown",
   "id": "64105225",
   "metadata": {},
   "source": []
  }
 ],
 "metadata": {
  "kernelspec": {
   "display_name": "Python 3",
   "language": "python",
   "name": "python3"
  },
  "language_info": {
   "codemirror_mode": {
    "name": "ipython",
    "version": 3
   },
   "file_extension": ".py",
   "mimetype": "text/x-python",
   "name": "python",
   "nbconvert_exporter": "python",
   "pygments_lexer": "ipython3",
   "version": "3.10.12"
  }
 },
 "nbformat": 4,
 "nbformat_minor": 5
}
